{
 "cells": [
  {
   "cell_type": "code",
   "execution_count": 1,
   "id": "serious-european",
   "metadata": {},
   "outputs": [],
   "source": [
    "import numpy as np\n",
    "import matplotlib.pyplot as plt\n",
    "\n",
    "from sklearn.cluster import KMeans"
   ]
  },
  {
   "cell_type": "code",
   "execution_count": 2,
   "id": "three-athletics",
   "metadata": {},
   "outputs": [],
   "source": [
    "np.random.seed(2021)"
   ]
  },
  {
   "cell_type": "code",
   "execution_count": 43,
   "id": "rotary-cabin",
   "metadata": {},
   "outputs": [],
   "source": [
    "# Subprocedures for algorithm\n",
    "\n",
    "def epsilon_neighbor(d, eps=1.0):\n",
    "    return (d < eps**2).astype(int)\n",
    "\n",
    "def gauss_sim(d, sigma=1.0):\n",
    "    return np.exp(-d/sigma**2)\n",
    "\n",
    "def getSimilarity(data, weighted=True, sigma=1.0):\n",
    "    if len(data.shape) == 1:\n",
    "        data = np.expand_dims(data, axis=-1)\n",
    "    #print(data.shape)\n",
    "    z = np.tile(data, (data.shape[0],1,1))\n",
    "    y = np.expand_dims(data, axis=1)\n",
    "    dist = np.sum((y - z)**2, axis=2)\n",
    "    #dist = np.square(data - np.tile(data, (data.shape[0],1)).T)\n",
    "    if weighted:\n",
    "        return gauss_sim(dist, sigma=sigma)\n",
    "    else:\n",
    "        return epsilon_neighbor(dist)\n",
    "\n",
    "def getLaplacian(W):\n",
    "    return np.diag(np.sum(W, axis=0)) - W"
   ]
  },
  {
   "cell_type": "code",
   "execution_count": 42,
   "id": "applied-section",
   "metadata": {},
   "outputs": [],
   "source": [
    "# Algorithm\n",
    "\n",
    "def spectral_clustering(data, k, weighted=True, sigma=1.0):\n",
    "    W = getSimilarity(data, weighted=weighted, sigma=sigma)\n",
    "    L = getLaplacian(W)\n",
    "    \n",
    "    lam, U = np.linalg.eigh(L)\n",
    "    sorted_ind = np.argsort(lam)\n",
    "    U_best = U[:, sorted_ind[:k]]\n",
    "    \n",
    "    kmeans = KMeans(n_clusters=k).fit(U_best)\n",
    "    #pred_clusters = reorderLabels(kmeans.labels_)\n",
    "\n",
    "    return kmeans.labels_"
   ]
  },
  {
   "cell_type": "code",
   "execution_count": 5,
   "id": "radical-passage",
   "metadata": {},
   "outputs": [],
   "source": [
    "# For evaluation\n",
    "\n",
    "def getLoss(data, label, return_cluster_loss=False):\n",
    "    all_loss = []\n",
    "    for c in np.unique(label):\n",
    "        #cluster_indices = np.where(c == pred)\n",
    "        cluster_data = data[c == label]\n",
    "        #cluster_dist = np.square(cluster_data - np.tile(cluster_data, (cluster_data.shape[0],1)).T)\n",
    "        #z = np.tile(data, (data.shape[0],1,1))\n",
    "        #y = np.expand_dims(data, axis=1)\n",
    "        cluster_dist = np.sum((np.expand_dims(cluster_data, axis=1) - np.tile(cluster_data, (cluster_data.shape[0],1,1)))**2, axis=2)\n",
    "    \n",
    "        cluster_loss = np.sum(cluster_dist)\n",
    "        all_loss.append(cluster_loss)\n",
    "    \n",
    "    return sum(all_loss) if not return_cluster_loss else (sum(all_loss), all_loss)"
   ]
  },
  {
   "cell_type": "markdown",
   "id": "patient-aquatic",
   "metadata": {},
   "source": [
    "# Unweighted Graph Visualization"
   ]
  },
  {
   "cell_type": "code",
   "execution_count": 6,
   "id": "surprising-client",
   "metadata": {},
   "outputs": [],
   "source": [
    "n = 12\n",
    "centers = [2,4,6,8]\n",
    "sigma = 0.4\n",
    "k = len(centers)\n",
    "\n",
    "gt_label_indices = np.random.permutation(np.arange(n))\n",
    "gt_labels = np.repeat(np.arange(k), n//k)[gt_label_indices]\n",
    "\n",
    "cluster_data = np.stack([np.random.normal(loc=m, scale=sigma, size=n//k) for m in centers])\n",
    "data = cluster_data.reshape(-1)[gt_label_indices]"
   ]
  },
  {
   "cell_type": "code",
   "execution_count": 7,
   "id": "wanted-involvement",
   "metadata": {},
   "outputs": [
    {
     "data": {
      "text/plain": [
       "(12, 12)"
      ]
     },
     "execution_count": 7,
     "metadata": {},
     "output_type": "execute_result"
    }
   ],
   "source": [
    "W = getSimilarity(data, weighted=False)\n",
    "W.shape"
   ]
  },
  {
   "cell_type": "code",
   "execution_count": 8,
   "id": "based-island",
   "metadata": {},
   "outputs": [
    {
     "data": {
      "text/plain": [
       "array([[1, 0, 1, 0, 0, 0, 1, 0, 0, 0, 0, 0],\n",
       "       [0, 1, 0, 1, 0, 0, 0, 0, 1, 0, 0, 0],\n",
       "       [1, 0, 1, 0, 0, 1, 1, 0, 0, 0, 0, 0],\n",
       "       [0, 1, 0, 1, 0, 0, 0, 0, 1, 0, 0, 0],\n",
       "       [0, 0, 0, 0, 1, 0, 0, 0, 0, 0, 1, 1],\n",
       "       [0, 0, 1, 0, 0, 1, 1, 1, 0, 0, 0, 0],\n",
       "       [1, 0, 1, 0, 0, 1, 1, 1, 0, 0, 0, 0],\n",
       "       [0, 0, 0, 0, 0, 1, 1, 1, 0, 1, 0, 0],\n",
       "       [0, 1, 0, 1, 0, 0, 0, 0, 1, 0, 0, 0],\n",
       "       [0, 0, 0, 0, 0, 0, 0, 1, 0, 1, 0, 0],\n",
       "       [0, 0, 0, 0, 1, 0, 0, 0, 0, 0, 1, 1],\n",
       "       [0, 0, 0, 0, 1, 0, 0, 0, 0, 0, 1, 1]])"
      ]
     },
     "execution_count": 8,
     "metadata": {},
     "output_type": "execute_result"
    }
   ],
   "source": [
    "W"
   ]
  },
  {
   "cell_type": "code",
   "execution_count": 9,
   "id": "expired-vegetable",
   "metadata": {
    "scrolled": true
   },
   "outputs": [
    {
     "data": {
      "image/png": "[encoded data removed]",
      "text/plain": [
       "<Figure size 432x288 with 1 Axes>"
      ]
     },
     "metadata": {},
     "output_type": "display_data"
    }
   ],
   "source": [
    "# Visualize sim graph\n",
    "import networkx as nx\n",
    "\n",
    "G = nx.Graph()\n",
    "G.add_nodes_from(np.arange(n))\n",
    "edges = np.stack(np.where(W > 0)).T\n",
    "G.add_edges_from(edges)\n",
    "\n",
    "# Adjust node position\n",
    "y_pos = np.zeros(n)\n",
    "y_pos[np.arange(1, n, step=2)] = 1#np.arange(n//2)+1\n",
    "y_pos_map = dict(zip(np.argsort(data), y_pos))\n",
    "permuted_y_pos = [y_pos_map[i] for i in range(n)]\n",
    "\n",
    "# Set axis scale equal\n",
    "plt.ylim(-0.5, 1.5)\n",
    "plt.gca().set_aspect('equal', adjustable='box')\n",
    "\n",
    "# Adjust edges width\n",
    "weights = getSimilarity(data, weighted=True)\n",
    "\n",
    "posdict = dict(zip(np.arange(n), tuple(zip(data, permuted_y_pos))))\n",
    "labeldict = dict(zip(np.arange(n), np.around(data, 2)))\n",
    "nx.draw(G, labels=labeldict, with_labels=True, width=(weights[W > 0] - 0.2)*5, pos=posdict)\n"
   ]
  },
  {
   "cell_type": "markdown",
   "id": "through-cooling",
   "metadata": {},
   "source": [
    "# Toy Example Dataset"
   ]
  },
  {
   "cell_type": "code",
   "execution_count": 10,
   "id": "casual-mechanics",
   "metadata": {},
   "outputs": [],
   "source": [
    "n = 200\n",
    "\n",
    "centers = [2,4,6,8]\n",
    "sigma = 0.4\n",
    "k = len(centers)\n"
   ]
  },
  {
   "cell_type": "code",
   "execution_count": 11,
   "id": "lonely-comparison",
   "metadata": {},
   "outputs": [],
   "source": [
    "gt_label_indices = np.random.permutation(np.arange(n))\n",
    "\n",
    "gt_labels = np.repeat(np.arange(k), n//k)[gt_label_indices]"
   ]
  },
  {
   "cell_type": "code",
   "execution_count": 12,
   "id": "native-diving",
   "metadata": {},
   "outputs": [
    {
     "data": {
      "text/plain": [
       "(200,)"
      ]
     },
     "execution_count": 12,
     "metadata": {},
     "output_type": "execute_result"
    }
   ],
   "source": [
    "cluster_data = np.stack([np.random.normal(loc=m, scale=sigma, size=n//k) for m in centers])\n",
    "\n",
    "data = cluster_data.reshape(-1)[gt_label_indices]\n",
    "\n",
    "data.shape"
   ]
  },
  {
   "cell_type": "code",
   "execution_count": 13,
   "id": "second-science",
   "metadata": {},
   "outputs": [
    {
     "data": {
      "image/png": "[encoded data removed]",
      "text/plain": [
       "<Figure size 432x288 with 1 Axes>"
      ]
     },
     "metadata": {
      "needs_background": "light"
     },
     "output_type": "display_data"
    }
   ],
   "source": [
    "n_bins = n//2\n",
    "\n",
    "for i in range(k): \n",
    "    plt.hist(cluster_data[i], bins=n_bins//k)"
   ]
  },
  {
   "cell_type": "markdown",
   "id": "supported-artwork",
   "metadata": {},
   "source": [
    "# Weighted Graph & Algorithm"
   ]
  },
  {
   "cell_type": "code",
   "execution_count": 14,
   "id": "ahead-marble",
   "metadata": {},
   "outputs": [
    {
     "data": {
      "text/plain": [
       "(200, 200)"
      ]
     },
     "execution_count": 14,
     "metadata": {},
     "output_type": "execute_result"
    }
   ],
   "source": [
    "W = getSimilarity(data, weighted=True)\n",
    "W.shape"
   ]
  },
  {
   "cell_type": "code",
   "execution_count": 15,
   "id": "inside-underwear",
   "metadata": {},
   "outputs": [
    {
     "data": {
      "text/plain": [
       "(200, 200)"
      ]
     },
     "execution_count": 15,
     "metadata": {},
     "output_type": "execute_result"
    }
   ],
   "source": [
    "L = getLaplacian(W)\n",
    "L.shape"
   ]
  },
  {
   "cell_type": "code",
   "execution_count": 16,
   "id": "cloudy-cherry",
   "metadata": {},
   "outputs": [
    {
     "data": {
      "text/plain": [
       "array([1.61145389e-15, 1.44110561e+00, 4.63013242e+00, 1.04994300e+01,\n",
       "       2.29301620e+01, 2.77582679e+01, 3.10289209e+01, 3.19157452e+01])"
      ]
     },
     "execution_count": 16,
     "metadata": {},
     "output_type": "execute_result"
    }
   ],
   "source": [
    "lam, U = np.linalg.eigh(L)\n",
    "sorted_ind = np.argsort(lam)\n",
    "\n",
    "num_ref = k \n",
    "smallest_ind = sorted_ind[:k+num_ref]\n",
    "lam[smallest_ind]"
   ]
  },
  {
   "cell_type": "code",
   "execution_count": 17,
   "id": "played-appliance",
   "metadata": {},
   "outputs": [],
   "source": [
    "U[:,smallest_ind[:k]]\n",
    "U_best = U[:,smallest_ind[:k]]"
   ]
  },
  {
   "cell_type": "code",
   "execution_count": 18,
   "id": "forbidden-committee",
   "metadata": {},
   "outputs": [
    {
     "data": {
      "text/plain": [
       "<matplotlib.collections.PathCollection at 0x7faa12030450>"
      ]
     },
     "execution_count": 18,
     "metadata": {},
     "output_type": "execute_result"
    },
    {
     "data": {
      "image/png": "[encoded data removed]",
      "text/plain": [
       "<Figure size 432x288 with 1 Axes>"
      ]
     },
     "metadata": {
      "needs_background": "light"
     },
     "output_type": "display_data"
    }
   ],
   "source": [
    "# Eigenvalue plot\n",
    "\n",
    "plt.scatter(np.arange(k+num_ref)+1, lam[smallest_ind])"
   ]
  },
  {
   "cell_type": "code",
   "execution_count": 19,
   "id": "confidential-samoa",
   "metadata": {},
   "outputs": [
    {
     "data": {
      "image/png": "[encoded data removed]",
      "text/plain": [
       "<Figure size 432x288 with 1 Axes>"
      ]
     },
     "metadata": {
      "needs_background": "light"
     },
     "output_type": "display_data"
    }
   ],
   "source": [
    "# Eigenvector plots\n",
    "\n",
    "for i in range(k): \n",
    "    u = U_best[:,i]\n",
    "    plt.scatter(data, u)"
   ]
  },
  {
   "cell_type": "markdown",
   "id": "other-affiliate",
   "metadata": {},
   "source": [
    "# Clustering Result"
   ]
  },
  {
   "cell_type": "code",
   "execution_count": 20,
   "id": "inclusive-transsexual",
   "metadata": {},
   "outputs": [],
   "source": [
    "kmeans = KMeans(n_clusters=k).fit(U_best)\n",
    "pred = kmeans.labels_"
   ]
  },
  {
   "cell_type": "code",
   "execution_count": 21,
   "id": "familiar-intent",
   "metadata": {},
   "outputs": [
    {
     "data": {
      "text/plain": [
       "161451.49572985637"
      ]
     },
     "execution_count": 21,
     "metadata": {},
     "output_type": "execute_result"
    }
   ],
   "source": [
    "getLoss(data, pred)"
   ]
  },
  {
   "cell_type": "code",
   "execution_count": 22,
   "id": "employed-indonesian",
   "metadata": {},
   "outputs": [
    {
     "data": {
      "text/plain": [
       "161424.15249209316"
      ]
     },
     "execution_count": 22,
     "metadata": {},
     "output_type": "execute_result"
    }
   ],
   "source": [
    "getLoss(data, gt_labels)"
   ]
  },
  {
   "cell_type": "code",
   "execution_count": 23,
   "id": "military-charles",
   "metadata": {},
   "outputs": [
    {
     "data": {
      "image/png": "[encoded data removed]",
      "text/plain": [
       "<Figure size 432x288 with 1 Axes>"
      ]
     },
     "metadata": {
      "needs_background": "light"
     },
     "output_type": "display_data"
    }
   ],
   "source": [
    "for c in np.unique(pred): \n",
    "    plt.hist(data[c==pred], bins=n_bins//k)"
   ]
  },
  {
   "cell_type": "code",
   "execution_count": 24,
   "id": "executive-crowd",
   "metadata": {},
   "outputs": [
    {
     "data": {
      "text/plain": [
       "<matplotlib.legend.Legend at 0x7faa11328bd0>"
      ]
     },
     "execution_count": 24,
     "metadata": {},
     "output_type": "execute_result"
    },
    {
     "data": {
      "image/png": "[encoded data removed]",
      "text/plain": [
       "<Figure size 432x288 with 1 Axes>"
      ]
     },
     "metadata": {
      "needs_background": "light"
     },
     "output_type": "display_data"
    }
   ],
   "source": [
    "# Feature vector pattern of each cluster\n",
    "clus_marker = [plt.rcParams['axes.prop_cycle'].by_key()['color'][i] for i in [3,2,0,1]]\n",
    "feat_marker = ['o', 'x', '^', '+']\n",
    "\n",
    "for c in np.unique(pred): \n",
    "    \"\"\"\n",
    "    x = np.tile(data[c==pred], k)\n",
    "    y = np.concatenate([U_best[c==pred,i] for i in range(k)])\n",
    "    plt.scatter(x, y)\n",
    "    \"\"\"\n",
    "    for i in range(k):\n",
    "        if feat_marker[i] in ['o', '^']:\n",
    "            plt.scatter(data[c==pred], U_best[c==pred,i], color=clus_marker[c], marker=feat_marker[i], facecolors='none')\n",
    "        else:\n",
    "            plt.scatter(data[c==pred], U_best[c==pred,i], color=clus_marker[c], marker=feat_marker[i])\n",
    "            \n",
    "plt.legend([])\n",
    "import matplotlib.lines as mlines\n",
    "\n",
    "legend_feat1 = mlines.Line2D([], [], marker='o', linestyle='None', markerfacecolor=\"none\", label='Feat 1')\n",
    "legend_feat2 = mlines.Line2D([], [], marker='x', linestyle='None', label='Feat 2')\n",
    "legend_feat3 = mlines.Line2D([], [], marker='^', linestyle='None', markerfacecolor=\"none\", label='Feat 3')\n",
    "legend_feat4 = mlines.Line2D([], [], marker='+', linestyle='None', label='Feat 4')\n",
    "\n",
    "plt.legend(handles=[legend_feat1, legend_feat2, legend_feat3, legend_feat4])"
   ]
  },
  {
   "cell_type": "code",
   "execution_count": 25,
   "id": "earlier-childhood",
   "metadata": {},
   "outputs": [],
   "source": [
    "pred = spectral_clustering(data, k)"
   ]
  },
  {
   "cell_type": "code",
   "execution_count": 26,
   "id": "perfect-jimmy",
   "metadata": {},
   "outputs": [],
   "source": [
    "# TODO: Implement local scaling, add harder example, take time on big example"
   ]
  },
  {
   "cell_type": "markdown",
   "id": "excessive-tomato",
   "metadata": {},
   "source": [
    "# Multi-local-scale Example"
   ]
  },
  {
   "cell_type": "code",
   "execution_count": 27,
   "id": "resident-tonight",
   "metadata": {},
   "outputs": [],
   "source": [
    "\n",
    "n = 500\n",
    "R_range = [(0,1), (2,3), (4,5)]\n",
    "k = len(R_range)\n",
    "\n",
    "theta = np.random.uniform(0,2*np.pi,n)\n",
    "\n",
    "intv_len = np.array([R_range[i][1]**2 - R_range[i][0]**2 for i in range(k)])\n",
    "total_length = np.sum(intv_len)\n",
    "\n",
    "cum_len = np.cumsum(intv_len)\n",
    "true_Rs = []\n",
    "\n",
    "cluster_size = [0] * k\n",
    "cluster_indices = [[] for i in range(k)]\n",
    "\n",
    "R_sq = np.random.uniform(0, total_length, n)\n",
    "for i, r_sq in enumerate(R_sq):\n",
    "    cluster = np.where(r_sq < cum_len)[0][0]\n",
    "    \n",
    "    r_min, r_max = R_range[cluster]\n",
    "    intv_offset = r_sq - cum_len[cluster-1] if cluster != 0 else r_sq\n",
    "    assert(intv_offset > 0)\n",
    "    \n",
    "    true_r_sq = r_min**2 + intv_offset\n",
    "    assert(true_r_sq > 0)\n",
    "    \n",
    "    true_Rs.append(true_r_sq)\n",
    "    cluster_size[cluster] += 1\n",
    "    cluster_indices[cluster].append(i)\n",
    "    \n",
    "r = np.sqrt(np.array(true_Rs))\n",
    "#cluster_indices = np.array(cluster_indices)\n",
    "for i in range(k):\n",
    "    cluster_indices[i] = np.array(cluster_indices[i])"
   ]
  },
  {
   "cell_type": "code",
   "execution_count": 28,
   "id": "legal-ivory",
   "metadata": {},
   "outputs": [],
   "source": [
    "gt_labels = np.zeros(n)\n",
    "for c in range(k):\n",
    "    i = cluster_indices[c]\n",
    "    gt_labels[i] = c"
   ]
  },
  {
   "cell_type": "code",
   "execution_count": 29,
   "id": "looking-qatar",
   "metadata": {},
   "outputs": [
    {
     "data": {
      "image/png": "[encoded data removed]",
      "text/plain": [
       "<Figure size 432x288 with 1 Axes>"
      ]
     },
     "metadata": {
      "needs_background": "light"
     },
     "output_type": "display_data"
    }
   ],
   "source": [
    "plt.axis('equal')\n",
    "\n",
    "points = np.stack([r * np.cos(theta), r * np.sin(theta)])\n",
    "\n",
    "for i in range(k):\n",
    "    clus_points = points[:, cluster_indices[i]]\n",
    "    plt.scatter(clus_points[0], clus_points[1])"
   ]
  },
  {
   "cell_type": "markdown",
   "id": "backed-petersburg",
   "metadata": {},
   "source": [
    "# Test with Original Spectral Clustering"
   ]
  },
  {
   "cell_type": "code",
   "execution_count": 30,
   "id": "loaded-colors",
   "metadata": {},
   "outputs": [
    {
     "data": {
      "text/plain": [
       "(500, 2)"
      ]
     },
     "execution_count": 30,
     "metadata": {},
     "output_type": "execute_result"
    }
   ],
   "source": [
    "#points.shape\n",
    "data = points.T\n",
    "data.shape"
   ]
  },
  {
   "cell_type": "code",
   "execution_count": 46,
   "id": "herbal-jaguar",
   "metadata": {},
   "outputs": [],
   "source": [
    "sigma=0.1\n",
    "pred = spectral_clustering(data, k, sigma)"
   ]
  },
  {
   "cell_type": "code",
   "execution_count": 47,
   "id": "oriented-decade",
   "metadata": {},
   "outputs": [
    {
     "data": {
      "image/png": "[encoded data removed]",
      "text/plain": [
       "<Figure size 432x288 with 1 Axes>"
      ]
     },
     "metadata": {
      "needs_background": "light"
     },
     "output_type": "display_data"
    }
   ],
   "source": [
    "plt.axis('equal')\n",
    "\n",
    "for c in range(k):\n",
    "    cluster_indices = np.where(pred == c)\n",
    "    clus_points = data[cluster_indices].T\n",
    "    plt.scatter(clus_points[0], clus_points[1])"
   ]
  },
  {
   "cell_type": "code",
   "execution_count": 40,
   "id": "conceptual-biography",
   "metadata": {},
   "outputs": [
    {
     "data": {
      "text/plain": [
       "946643.4402667326"
      ]
     },
     "execution_count": 40,
     "metadata": {},
     "output_type": "execute_result"
    }
   ],
   "source": [
    "getLoss(data, pred)"
   ]
  },
  {
   "cell_type": "code",
   "execution_count": 41,
   "id": "spanish-folks",
   "metadata": {},
   "outputs": [
    {
     "data": {
      "text/plain": [
       "3908677.28384642"
      ]
     },
     "execution_count": 41,
     "metadata": {},
     "output_type": "execute_result"
    }
   ],
   "source": [
    "getLoss(data, gt_labels)"
   ]
  },
  {
   "cell_type": "code",
   "execution_count": null,
   "id": "established-relevance",
   "metadata": {},
   "outputs": [],
   "source": []
  }
 ],
 "metadata": {
  "kernelspec": {
   "display_name": "Python 3",
   "language": "python",
   "name": "python3"
  },
  "language_info": {
   "codemirror_mode": {
    "name": "ipython",
    "version": 3
   },
   "file_extension": ".py",
   "mimetype": "text/x-python",
   "name": "python",
   "nbconvert_exporter": "python",
   "pygments_lexer": "ipython3",
   "version": "3.7.10"
  }
 },
 "nbformat": 4,
 "nbformat_minor": 5
}
