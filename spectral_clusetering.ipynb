{
 "cells": [
  {
   "cell_type": "code",
   "execution_count": 22,
   "id": "raising-clear",
   "metadata": {},
   "outputs": [],
   "source": [
    "import numpy as np\n",
    "import matplotlib.pyplot as plt\n",
    "\n",
    "from sklearn.cluster import KMeans"
   ]
  },
  {
   "cell_type": "code",
   "execution_count": 2,
   "id": "musical-franchise",
   "metadata": {},
   "outputs": [],
   "source": [
    "n = 12\n",
    "\n",
    "centers = [2,4,6,8]\n",
    "sigma = 0.4\n",
    "k = len(centers)\n",
    "\n",
    "#random.seed(2021)\n",
    "np.random.seed(2021)\n",
    "#rng = np.random.RandomState(2021)\n",
    "#rng.random(4)"
   ]
  },
  {
   "cell_type": "code",
   "execution_count": 26,
   "id": "german-supplement",
   "metadata": {},
   "outputs": [
    {
     "data": {
      "text/plain": [
       "array([0, 0, 0, 1, 1, 1, 2, 2, 2, 3, 3, 3])"
      ]
     },
     "execution_count": 26,
     "metadata": {},
     "output_type": "execute_result"
    }
   ],
   "source": [
    "gt_clusters = np.repeat(np.arange(k), n//k)\n",
    "gt_clusters"
   ]
  },
  {
   "cell_type": "code",
   "execution_count": 3,
   "id": "automated-coaching",
   "metadata": {},
   "outputs": [],
   "source": [
    "data = np.concatenate([np.random.normal(loc=m, scale=sigma, size=n//k) for m in centers])\n",
    "#data"
   ]
  },
  {
   "cell_type": "code",
   "execution_count": 4,
   "id": "cloudy-alexander",
   "metadata": {},
   "outputs": [
    {
     "data": {
      "image/png": "[encoded data removed]",
      "text/plain": [
       "<Figure size 432x288 with 1 Axes>"
      ]
     },
     "metadata": {
      "needs_background": "light"
     },
     "output_type": "display_data"
    }
   ],
   "source": [
    "n_bins = n//2\n",
    "_ = plt.hist(data, bins=n_bins)"
   ]
  },
  {
   "cell_type": "code",
   "execution_count": 5,
   "id": "interpreted-demonstration",
   "metadata": {},
   "outputs": [],
   "source": [
    "def epsilon_neighbor(d, eps=1.0):\n",
    "    #neighbor_indices, _ = np.where(data < eps**2)\n",
    "    #return neighbor_indices\n",
    "    return (d < eps**2).astype(int)\n",
    "\n",
    "def gauss_sim(d, sigma=1.0):\n",
    "    #np.log(d)\n",
    "    return np.exp(-d/sigma**2)\n",
    "\n",
    "def getSimilarity(data, weighted=True):\n",
    "    dist = np.square(data - np.tile(data, (data.shape[0],1)).T)\n",
    "    if weighted:\n",
    "        return gauss_sim(dist)\n",
    "    else:\n",
    "        return epsilon_neighbor(dist)\n",
    "\n",
    "def getLaplacian(W):\n",
    "    return np.diag(np.sum(W, axis=0)) - W"
   ]
  },
  {
   "cell_type": "code",
   "execution_count": 6,
   "id": "changing-desire",
   "metadata": {},
   "outputs": [
    {
     "data": {
      "text/plain": [
       "(12, 12)"
      ]
     },
     "execution_count": 6,
     "metadata": {},
     "output_type": "execute_result"
    }
   ],
   "source": [
    "W = getSimilarity(data, weighted=False)\n",
    "W.shape"
   ]
  },
  {
   "cell_type": "code",
   "execution_count": null,
   "id": "driven-mounting",
   "metadata": {},
   "outputs": [],
   "source": [
    "# TODO: Visualize sim graph"
   ]
  },
  {
   "cell_type": "code",
   "execution_count": 7,
   "id": "noted-racing",
   "metadata": {},
   "outputs": [
    {
     "data": {
      "text/plain": [
       "array([[1, 1, 1, 0, 0, 0, 0, 0, 0, 0, 0, 0],\n",
       "       [1, 1, 1, 0, 0, 0, 0, 0, 0, 0, 0, 0],\n",
       "       [1, 1, 1, 0, 0, 0, 0, 0, 0, 0, 0, 0],\n",
       "       [0, 0, 0, 1, 1, 1, 0, 0, 0, 0, 0, 0],\n",
       "       [0, 0, 0, 1, 1, 1, 0, 0, 0, 0, 0, 0],\n",
       "       [0, 0, 0, 1, 1, 1, 0, 0, 0, 0, 0, 0],\n",
       "       [0, 0, 0, 0, 0, 0, 1, 1, 1, 0, 0, 0],\n",
       "       [0, 0, 0, 0, 0, 0, 1, 1, 1, 0, 0, 0],\n",
       "       [0, 0, 0, 0, 0, 0, 1, 1, 1, 0, 0, 0],\n",
       "       [0, 0, 0, 0, 0, 0, 0, 0, 0, 1, 1, 1],\n",
       "       [0, 0, 0, 0, 0, 0, 0, 0, 0, 1, 1, 1],\n",
       "       [0, 0, 0, 0, 0, 0, 0, 0, 0, 1, 1, 1]])"
      ]
     },
     "execution_count": 7,
     "metadata": {},
     "output_type": "execute_result"
    }
   ],
   "source": [
    "W"
   ]
  },
  {
   "cell_type": "code",
   "execution_count": 8,
   "id": "assigned-barbados",
   "metadata": {},
   "outputs": [
    {
     "data": {
      "text/plain": [
       "(12, 12)"
      ]
     },
     "execution_count": 8,
     "metadata": {},
     "output_type": "execute_result"
    }
   ],
   "source": [
    "L = getLaplacian(W)\n",
    "L.shape"
   ]
  },
  {
   "cell_type": "code",
   "execution_count": 9,
   "id": "settled-substitute",
   "metadata": {},
   "outputs": [
    {
     "data": {
      "text/plain": [
       "array([[ 2, -1, -1,  0,  0,  0,  0,  0,  0,  0,  0,  0],\n",
       "       [-1,  2, -1,  0,  0,  0,  0,  0,  0,  0,  0,  0],\n",
       "       [-1, -1,  2,  0,  0,  0,  0,  0,  0,  0,  0,  0],\n",
       "       [ 0,  0,  0,  2, -1, -1,  0,  0,  0,  0,  0,  0],\n",
       "       [ 0,  0,  0, -1,  2, -1,  0,  0,  0,  0,  0,  0],\n",
       "       [ 0,  0,  0, -1, -1,  2,  0,  0,  0,  0,  0,  0],\n",
       "       [ 0,  0,  0,  0,  0,  0,  2, -1, -1,  0,  0,  0],\n",
       "       [ 0,  0,  0,  0,  0,  0, -1,  2, -1,  0,  0,  0],\n",
       "       [ 0,  0,  0,  0,  0,  0, -1, -1,  2,  0,  0,  0],\n",
       "       [ 0,  0,  0,  0,  0,  0,  0,  0,  0,  2, -1, -1],\n",
       "       [ 0,  0,  0,  0,  0,  0,  0,  0,  0, -1,  2, -1],\n",
       "       [ 0,  0,  0,  0,  0,  0,  0,  0,  0, -1, -1,  2]])"
      ]
     },
     "execution_count": 9,
     "metadata": {},
     "output_type": "execute_result"
    }
   ],
   "source": [
    "L"
   ]
  },
  {
   "cell_type": "code",
   "execution_count": 10,
   "id": "imperial-narrative",
   "metadata": {},
   "outputs": [
    {
     "data": {
      "text/plain": [
       "array([-1.11022302e-16, -1.11022302e-16, -1.11022302e-16, -1.11022302e-16,\n",
       "        3.00000000e+00,  3.00000000e+00,  3.00000000e+00,  3.00000000e+00])"
      ]
     },
     "execution_count": 10,
     "metadata": {},
     "output_type": "execute_result"
    }
   ],
   "source": [
    "lam, U = np.linalg.eig(L)\n",
    "#assert(np.all(np.argsort(lam) == np.arange(lam.shape[0])))\n",
    "sorted_ind = np.argsort(lam)\n",
    "\n",
    "num_ref = k #int(k*1.5)\n",
    "smallest_ind = sorted_ind[:k+num_ref]\n",
    "lam[smallest_ind]"
   ]
  },
  {
   "cell_type": "code",
   "execution_count": 11,
   "id": "seventh-indication",
   "metadata": {},
   "outputs": [
    {
     "data": {
      "text/plain": [
       "array([ 1,  4,  7, 10,  0,  2,  3,  5])"
      ]
     },
     "execution_count": 11,
     "metadata": {},
     "output_type": "execute_result"
    }
   ],
   "source": [
    "smallest_ind"
   ]
  },
  {
   "cell_type": "code",
   "execution_count": 12,
   "id": "vocational-invasion",
   "metadata": {},
   "outputs": [],
   "source": [
    "U[:,smallest_ind[:k]]\n",
    "U_best = U[:,smallest_ind[:k]]"
   ]
  },
  {
   "cell_type": "code",
   "execution_count": 13,
   "id": "handy-confusion",
   "metadata": {},
   "outputs": [
    {
     "data": {
      "text/plain": [
       "array([[-0.57735027,  0.        ,  0.        ,  0.        ],\n",
       "       [-0.57735027,  0.        ,  0.        ,  0.        ],\n",
       "       [-0.57735027,  0.        ,  0.        ,  0.        ],\n",
       "       [ 0.        , -0.57735027,  0.        ,  0.        ],\n",
       "       [ 0.        , -0.57735027,  0.        ,  0.        ],\n",
       "       [ 0.        , -0.57735027,  0.        ,  0.        ],\n",
       "       [ 0.        ,  0.        , -0.57735027,  0.        ],\n",
       "       [ 0.        ,  0.        , -0.57735027,  0.        ],\n",
       "       [ 0.        ,  0.        , -0.57735027,  0.        ],\n",
       "       [ 0.        ,  0.        ,  0.        , -0.57735027],\n",
       "       [ 0.        ,  0.        ,  0.        , -0.57735027],\n",
       "       [ 0.        ,  0.        ,  0.        , -0.57735027]])"
      ]
     },
     "execution_count": 13,
     "metadata": {},
     "output_type": "execute_result"
    }
   ],
   "source": [
    "U_best"
   ]
  },
  {
   "cell_type": "code",
   "execution_count": 14,
   "id": "adaptive-local",
   "metadata": {},
   "outputs": [
    {
     "data": {
      "text/plain": [
       "<matplotlib.collections.PathCollection at 0x7fa7041b8d90>"
      ]
     },
     "execution_count": 14,
     "metadata": {},
     "output_type": "execute_result"
    },
    {
     "data": {
      "image/png": "[encoded data removed]",
      "text/plain": [
       "<Figure size 432x288 with 1 Axes>"
      ]
     },
     "metadata": {
      "needs_background": "light"
     },
     "output_type": "display_data"
    }
   ],
   "source": [
    "plt.scatter(np.arange(k+num_ref)+1, lam[smallest_ind])"
   ]
  },
  {
   "cell_type": "code",
   "execution_count": 17,
   "id": "velvet-sword",
   "metadata": {},
   "outputs": [
    {
     "data": {
      "image/png": "[encoded data removed]",
      "text/plain": [
       "<Figure size 432x288 with 1 Axes>"
      ]
     },
     "metadata": {
      "needs_background": "light"
     },
     "output_type": "display_data"
    }
   ],
   "source": [
    "for i in range(k): \n",
    "    u = U_best[:,i]\n",
    "    #print()\n",
    "    #ax = plt.subplot(k, 1, i+1)\n",
    "    #all_ax.append(ax)\n",
    "    #all_ax[i].scatter(data, u)\n",
    "    plt.scatter(data, u)\n"
   ]
  },
  {
   "cell_type": "code",
   "execution_count": 16,
   "id": "therapeutic-addition",
   "metadata": {},
   "outputs": [
    {
     "data": {
      "image/png": "[encoded data removed]",
      "text/plain": [
       "<Figure size 432x1080 with 4 Axes>"
      ]
     },
     "metadata": {
      "needs_background": "light"
     },
     "output_type": "display_data"
    }
   ],
   "source": [
    "fig, axs = plt.subplots(k, sharex=True, sharey=True)\n",
    "fig.set_figheight(15)\n",
    "\n",
    "for i in range(k):\n",
    "    u = U_best[:,i]\n",
    "    #print(u)\n",
    "    axs[i].scatter(data, u)"
   ]
  },
  {
   "cell_type": "code",
   "execution_count": 20,
   "id": "advised-bikini",
   "metadata": {},
   "outputs": [
    {
     "data": {
      "text/plain": [
       "array([-0.57735027,  0.        ,  0.        ,  0.        ])"
      ]
     },
     "execution_count": 20,
     "metadata": {},
     "output_type": "execute_result"
    }
   ],
   "source": [
    "U_best[0]"
   ]
  },
  {
   "cell_type": "code",
   "execution_count": 23,
   "id": "verbal-pulse",
   "metadata": {},
   "outputs": [],
   "source": [
    "kmeans = KMeans(n_clusters=k).fit(U_best)"
   ]
  },
  {
   "cell_type": "code",
   "execution_count": 32,
   "id": "cognitive-munich",
   "metadata": {},
   "outputs": [],
   "source": [
    "def reorderLabels(labels):\n",
    "    pred = []\n",
    "    ordered_label = 0\n",
    "    prev_labels = {}\n",
    "\n",
    "    for c in labels:\n",
    "        if c not in prev_labels:\n",
    "            prev_labels[c] = ordered_label\n",
    "            ordered_label += 1\n",
    "        pred.append(prev_labels[c])\n",
    "\n",
    "    return np.array(pred)"
   ]
  },
  {
   "cell_type": "code",
   "execution_count": 34,
   "id": "organized-princeton",
   "metadata": {},
   "outputs": [
    {
     "data": {
      "text/plain": [
       "1.0"
      ]
     },
     "execution_count": 34,
     "metadata": {},
     "output_type": "execute_result"
    }
   ],
   "source": [
    "pred_clusters = reorderLabels(kmeans.labels_)\n",
    "acc = np.sum(pred_clusters == gt_clusters)/n\n",
    "acc"
   ]
  },
  {
   "cell_type": "code",
   "execution_count": 35,
   "id": "drawn-florence",
   "metadata": {},
   "outputs": [],
   "source": [
    "def spectral_clustering(data, k):\n",
    "    W = getSimilarity(data, weighted=False)\n",
    "    L = getLaplacian(W)\n",
    "    \n",
    "    lam, U = np.linalg.eig(L)\n",
    "    sorted_ind = np.argsort(lam)\n",
    "    U_best = U[:, sorted_ind[:k]]\n",
    "    \n",
    "    kmeans = KMeans(n_clusters=k).fit(U_best)\n",
    "    pred_clusters = reorderLabels(kmeans.labels_)\n",
    "    \n",
    "    return pred_clusters"
   ]
  },
  {
   "cell_type": "code",
   "execution_count": 36,
   "id": "literary-membership",
   "metadata": {},
   "outputs": [
    {
     "data": {
      "text/plain": [
       "array([0, 0, 0, 1, 1, 1, 2, 2, 2, 3, 3, 3])"
      ]
     },
     "execution_count": 36,
     "metadata": {},
     "output_type": "execute_result"
    }
   ],
   "source": [
    "pred = spectral_clustering(data, k)"
   ]
  },
  {
   "cell_type": "code",
   "execution_count": 45,
   "id": "invalid-warner",
   "metadata": {},
   "outputs": [],
   "source": [
    "# TODO: change evaluation metric to distance measure\n",
    "# Compare brute-force search for min distance\n",
    "def getLoss(data, label, return_cluster_loss=False):\n",
    "    all_loss = []\n",
    "    for c in np.unique(label):\n",
    "        #cluster_indices = np.where(c == pred)\n",
    "        cluster_data = data[c == label]\n",
    "        cluster_dist = np.square(cluster_data - np.tile(cluster_data, (cluster_data.shape[0],1)).T)\n",
    "        cluster_loss = np.sum(cluster_dist)\n",
    "        all_loss.append(cluster_loss)\n",
    "    \n",
    "    return sum(all_loss) if not return_cluster_loss else (sum(all_loss), all_loss)"
   ]
  },
  {
   "cell_type": "code",
   "execution_count": 46,
   "id": "present-productivity",
   "metadata": {},
   "outputs": [
    {
     "data": {
      "text/plain": [
       "4.201750446428697"
      ]
     },
     "execution_count": 46,
     "metadata": {},
     "output_type": "execute_result"
    }
   ],
   "source": [
    "getLoss(data, pred)"
   ]
  },
  {
   "cell_type": "code",
   "execution_count": 47,
   "id": "reported-surrey",
   "metadata": {},
   "outputs": [
    {
     "data": {
      "text/plain": [
       "4.201750446428697"
      ]
     },
     "execution_count": 47,
     "metadata": {},
     "output_type": "execute_result"
    }
   ],
   "source": [
    "getLoss(data, gt_clusters)"
   ]
  },
  {
   "cell_type": "code",
   "execution_count": null,
   "id": "honest-cornwall",
   "metadata": {},
   "outputs": [],
   "source": [
    "# TODO: Control Hyperparameter of getSim"
   ]
  },
  {
   "cell_type": "code",
   "execution_count": null,
   "id": "stainless-answer",
   "metadata": {},
   "outputs": [],
   "source": [
    "# TODO: Implement local scaling, add harder example, take time on big example"
   ]
  }
 ],
 "metadata": {
  "kernelspec": {
   "display_name": "Python 3",
   "language": "python",
   "name": "python3"
  },
  "language_info": {
   "codemirror_mode": {
    "name": "ipython",
    "version": 3
   },
   "file_extension": ".py",
   "mimetype": "text/x-python",
   "name": "python",
   "nbconvert_exporter": "python",
   "pygments_lexer": "ipython3",
   "version": "3.7.10"
  }
 },
 "nbformat": 4,
 "nbformat_minor": 5
}
