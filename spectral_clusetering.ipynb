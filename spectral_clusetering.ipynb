{
 "cells": [
  {
   "cell_type": "code",
   "execution_count": 1,
   "id": "vocational-remark",
   "metadata": {},
   "outputs": [],
   "source": [
    "import numpy as np\n",
    "import matplotlib.pyplot as plt\n",
    "\n",
    "from sklearn.cluster import KMeans"
   ]
  },
  {
   "cell_type": "code",
   "execution_count": 9,
   "id": "apart-reunion",
   "metadata": {},
   "outputs": [],
   "source": [
    "n = 200\n",
    "\n",
    "centers = [2,4,6,8]\n",
    "sigma = 0.4\n",
    "k = len(centers)\n",
    "\n",
    "np.random.seed(2021)"
   ]
  },
  {
   "cell_type": "code",
   "execution_count": 11,
   "id": "demographic-classification",
   "metadata": {},
   "outputs": [
    {
     "data": {
      "text/plain": [
       "array([ 13,  87,   4,  37,  34,  41, 153,  70, 129,  52, 138,   0, 108,\n",
       "       118, 146, 106,  35, 137, 192, 139, 147, 103, 140, 111, 124, 179,\n",
       "        46, 121,  45, 105, 181, 130, 176, 136,  81,  64,  50,  29, 167,\n",
       "       185, 126, 157, 133, 156,  83, 150, 162, 165,  15,  11, 184, 107,\n",
       "        66,  95,  58, 159, 188,  43, 100, 198, 183, 180,  71,  22,  57,\n",
       "        88,   1,   5, 191,  76, 149,  92, 113,  67,   6,  48, 158, 144,\n",
       "        86,  28,  53,  25, 194,  36,  77, 151,  14, 168, 104,  38,  99,\n",
       "        12,  31,  47,  42, 120,  30, 122,  90, 115, 134,  96,  54,  91,\n",
       "        23,  89,  97,   9,   2, 169, 119, 112,  74,  55,  60,  51, 155,\n",
       "        40,  69,  44,  84,  56,   8,  94,  63, 125, 154, 189, 196, 161,\n",
       "       171, 143,  21,  16, 174, 195, 142, 186, 170,  72, 148,   7, 101,\n",
       "        79, 177,  59, 145,  68, 116,  26, 187,  65, 164, 132,  20, 173,\n",
       "        93, 102,  78, 190, 127, 109,  85, 141, 110,  32, 131, 152, 182,\n",
       "        80,  33, 193,  73,   3,  19, 114, 172,  82, 178, 199, 163, 166,\n",
       "       197, 128,  10,  49, 175,  39,  98, 160,  75,  18, 135, 117, 123,\n",
       "        62,  61,  17,  24,  27])"
      ]
     },
     "execution_count": 11,
     "metadata": {},
     "output_type": "execute_result"
    }
   ],
   "source": [
    "gt_label_indices = np.random.permutation(np.arange(n))\n",
    "gt_label_indices"
   ]
  },
  {
   "cell_type": "code",
   "execution_count": 13,
   "id": "humanitarian-anthony",
   "metadata": {},
   "outputs": [
    {
     "data": {
      "text/plain": [
       "array([0, 1, 0, 0, 0, 0, 3, 1, 2, 1, 2, 0, 2, 2, 2, 2, 0, 2, 3, 2, 2, 2,\n",
       "       2, 2, 2, 3, 0, 2, 0, 2, 3, 2, 3, 2, 1, 1, 1, 0, 3, 3, 2, 3, 2, 3,\n",
       "       1, 3, 3, 3, 0, 0, 3, 2, 1, 1, 1, 3, 3, 0, 2, 3, 3, 3, 1, 0, 1, 1,\n",
       "       0, 0, 3, 1, 2, 1, 2, 1, 0, 0, 3, 2, 1, 0, 1, 0, 3, 0, 1, 3, 0, 3,\n",
       "       2, 0, 1, 0, 0, 0, 0, 2, 0, 2, 1, 2, 2, 1, 1, 1, 0, 1, 1, 0, 0, 3,\n",
       "       2, 2, 1, 1, 1, 1, 3, 0, 1, 0, 1, 1, 0, 1, 1, 2, 3, 3, 3, 3, 3, 2,\n",
       "       0, 0, 3, 3, 2, 3, 3, 1, 2, 0, 2, 1, 3, 1, 2, 1, 2, 0, 3, 1, 3, 2,\n",
       "       0, 3, 1, 2, 1, 3, 2, 2, 1, 2, 2, 0, 2, 3, 3, 1, 0, 3, 1, 0, 0, 2,\n",
       "       3, 1, 3, 3, 3, 3, 3, 2, 0, 0, 3, 0, 1, 3, 1, 0, 2, 2, 2, 1, 1, 0,\n",
       "       0, 0])"
      ]
     },
     "execution_count": 13,
     "metadata": {},
     "output_type": "execute_result"
    }
   ],
   "source": [
    "gt_labels = np.repeat(np.arange(k), n//k)[gt_label_indices]\n",
    "gt_labels"
   ]
  },
  {
   "cell_type": "code",
   "execution_count": 43,
   "id": "facial-camel",
   "metadata": {},
   "outputs": [
    {
     "data": {
      "text/plain": [
       "(200,)"
      ]
     },
     "execution_count": 43,
     "metadata": {},
     "output_type": "execute_result"
    }
   ],
   "source": [
    "cluster_data = np.stack([np.random.normal(loc=m, scale=sigma, size=n//k) for m in centers])\n",
    "data.shape"
   ]
  },
  {
   "cell_type": "code",
   "execution_count": 44,
   "id": "instrumental-given",
   "metadata": {},
   "outputs": [],
   "source": [
    "data = cluster_data.reshape(-1)[gt_label_indices]\n",
    "\n",
    "#data"
   ]
  },
  {
   "cell_type": "code",
   "execution_count": 45,
   "id": "binary-renaissance",
   "metadata": {},
   "outputs": [
    {
     "data": {
      "image/png": "[encoded data removed]",
      "text/plain": [
       "<Figure size 432x288 with 1 Axes>"
      ]
     },
     "metadata": {
      "needs_background": "light"
     },
     "output_type": "display_data"
    }
   ],
   "source": [
    "n_bins = n//2\n",
    "_ = plt.hist(data, bins=n_bins)"
   ]
  },
  {
   "cell_type": "code",
   "execution_count": 46,
   "id": "typical-awareness",
   "metadata": {},
   "outputs": [
    {
     "data": {
      "image/png": "[encoded data removed]",
      "text/plain": [
       "<Figure size 432x288 with 1 Axes>"
      ]
     },
     "metadata": {
      "needs_background": "light"
     },
     "output_type": "display_data"
    }
   ],
   "source": [
    "for i in range(k): \n",
    "    plt.hist(cluster_data[i], bins=n_bins//k)\n"
   ]
  },
  {
   "cell_type": "code",
   "execution_count": 49,
   "id": "cardiac-links",
   "metadata": {},
   "outputs": [
    {
     "data": {
      "image/png": "[encoded data removed]",
      "text/plain": [
       "<Figure size 432x1080 with 4 Axes>"
      ]
     },
     "metadata": {
      "needs_background": "light"
     },
     "output_type": "display_data"
    }
   ],
   "source": [
    "fig, axs = plt.subplots(k, sharex=True, sharey=True)\n",
    "fig.set_figheight(15)\n",
    "\n",
    "for i in range(k):\n",
    "    axs[i].hist(cluster_data[i], bins=n_bins//k)"
   ]
  },
  {
   "cell_type": "code",
   "execution_count": 50,
   "id": "respective-genesis",
   "metadata": {},
   "outputs": [],
   "source": [
    "def epsilon_neighbor(d, eps=1.0):\n",
    "    #neighbor_indices, _ = np.where(data < eps**2)\n",
    "    #return neighbor_indices\n",
    "    return (d < eps**2).astype(int)\n",
    "\n",
    "def gauss_sim(d, sigma=1.0):\n",
    "    #np.log(d)\n",
    "    return np.exp(-d/sigma**2)\n",
    "\n",
    "def getSimilarity(data, weighted=True):\n",
    "    dist = np.square(data - np.tile(data, (data.shape[0],1)).T)\n",
    "    if weighted:\n",
    "        return gauss_sim(dist)\n",
    "    else:\n",
    "        return epsilon_neighbor(dist)\n",
    "\n",
    "def getLaplacian(W):\n",
    "    return np.diag(np.sum(W, axis=0)) - W"
   ]
  },
  {
   "cell_type": "code",
   "execution_count": 51,
   "id": "discrete-puzzle",
   "metadata": {},
   "outputs": [
    {
     "data": {
      "text/plain": [
       "(200, 200)"
      ]
     },
     "execution_count": 51,
     "metadata": {},
     "output_type": "execute_result"
    }
   ],
   "source": [
    "W = getSimilarity(data, weighted=False)\n",
    "W.shape"
   ]
  },
  {
   "cell_type": "code",
   "execution_count": 52,
   "id": "measured-humanity",
   "metadata": {},
   "outputs": [],
   "source": [
    "# TODO: Visualize sim graph"
   ]
  },
  {
   "cell_type": "code",
   "execution_count": 53,
   "id": "outside-venue",
   "metadata": {},
   "outputs": [
    {
     "data": {
      "text/plain": [
       "array([[1, 0, 1, ..., 1, 1, 1],\n",
       "       [0, 1, 0, ..., 0, 0, 0],\n",
       "       [1, 0, 1, ..., 1, 1, 1],\n",
       "       ...,\n",
       "       [1, 0, 1, ..., 1, 1, 1],\n",
       "       [1, 0, 1, ..., 1, 1, 1],\n",
       "       [1, 0, 1, ..., 1, 1, 1]])"
      ]
     },
     "execution_count": 53,
     "metadata": {},
     "output_type": "execute_result"
    }
   ],
   "source": [
    "W"
   ]
  },
  {
   "cell_type": "code",
   "execution_count": 54,
   "id": "trying-debate",
   "metadata": {},
   "outputs": [
    {
     "data": {
      "text/plain": [
       "(200, 200)"
      ]
     },
     "execution_count": 54,
     "metadata": {},
     "output_type": "execute_result"
    }
   ],
   "source": [
    "L = getLaplacian(W)\n",
    "L.shape"
   ]
  },
  {
   "cell_type": "code",
   "execution_count": 55,
   "id": "documentary-christmas",
   "metadata": {},
   "outputs": [
    {
     "data": {
      "text/plain": [
       "array([[48,  0, -1, ..., -1, -1, -1],\n",
       "       [ 0, 47,  0, ...,  0,  0,  0],\n",
       "       [-1,  0, 48, ..., -1, -1, -1],\n",
       "       ...,\n",
       "       [-1,  0, -1, ..., 49, -1, -1],\n",
       "       [-1,  0, -1, ..., -1, 49, -1],\n",
       "       [-1,  0, -1, ..., -1, -1, 48]])"
      ]
     },
     "execution_count": 55,
     "metadata": {},
     "output_type": "execute_result"
    }
   ],
   "source": [
    "L"
   ]
  },
  {
   "cell_type": "code",
   "execution_count": 64,
   "id": "helpful-arrival",
   "metadata": {},
   "outputs": [
    {
     "data": {
      "text/plain": [
       "array([-1.43388609e-16,  4.90301210e-01,  1.25021101e+00,  4.40692364e+00,\n",
       "        3.56481499e+01,  3.71340360e+01,  4.00456810e+01,  4.18538951e+01])"
      ]
     },
     "execution_count": 64,
     "metadata": {},
     "output_type": "execute_result"
    }
   ],
   "source": [
    "lam, U = np.linalg.eigh(L)\n",
    "#assert(np.all(np.argsort(lam) == np.arange(lam.shape[0])))\n",
    "sorted_ind = np.argsort(lam)\n",
    "\n",
    "num_ref = k #int(k*1.5)\n",
    "smallest_ind = sorted_ind[:k+num_ref]\n",
    "lam[smallest_ind]"
   ]
  },
  {
   "cell_type": "code",
   "execution_count": 65,
   "id": "correct-accountability",
   "metadata": {},
   "outputs": [
    {
     "data": {
      "text/plain": [
       "array([0, 1, 2, 3, 4, 5, 6, 7])"
      ]
     },
     "execution_count": 65,
     "metadata": {},
     "output_type": "execute_result"
    }
   ],
   "source": [
    "smallest_ind"
   ]
  },
  {
   "cell_type": "code",
   "execution_count": 66,
   "id": "funny-looking",
   "metadata": {},
   "outputs": [],
   "source": [
    "U[:,smallest_ind[:k]]\n",
    "U_best = U[:,smallest_ind[:k]]"
   ]
  },
  {
   "cell_type": "code",
   "execution_count": 67,
   "id": "color-publication",
   "metadata": {},
   "outputs": [
    {
     "data": {
      "text/plain": [
       "<matplotlib.collections.PathCollection at 0x7fa34b2d4590>"
      ]
     },
     "execution_count": 67,
     "metadata": {},
     "output_type": "execute_result"
    },
    {
     "data": {
      "image/png": "[encoded data removed]",
      "text/plain": [
       "<Figure size 432x288 with 1 Axes>"
      ]
     },
     "metadata": {
      "needs_background": "light"
     },
     "output_type": "display_data"
    }
   ],
   "source": [
    "plt.scatter(np.arange(k+num_ref)+1, lam[smallest_ind])"
   ]
  },
  {
   "cell_type": "code",
   "execution_count": 68,
   "id": "metallic-university",
   "metadata": {},
   "outputs": [
    {
     "data": {
      "image/png": "[encoded data removed]",
      "text/plain": [
       "<Figure size 432x288 with 1 Axes>"
      ]
     },
     "metadata": {
      "needs_background": "light"
     },
     "output_type": "display_data"
    }
   ],
   "source": [
    "for i in range(k): \n",
    "    u = U_best[:,i]\n",
    "    plt.scatter(data, u)"
   ]
  },
  {
   "cell_type": "code",
   "execution_count": null,
   "id": "stupid-sunglasses",
   "metadata": {},
   "outputs": [],
   "source": []
  },
  {
   "cell_type": "code",
   "execution_count": 69,
   "id": "ultimate-chicken",
   "metadata": {},
   "outputs": [
    {
     "data": {
      "image/png": "[encoded data removed]",
      "text/plain": [
       "<Figure size 432x1080 with 4 Axes>"
      ]
     },
     "metadata": {
      "needs_background": "light"
     },
     "output_type": "display_data"
    }
   ],
   "source": [
    "fig, axs = plt.subplots(k, sharex=True, sharey=True)\n",
    "fig.set_figheight(15)\n",
    "\n",
    "for i in range(k):\n",
    "    u = U_best[:,i]\n",
    "    #print(u)\n",
    "    axs[i].scatter(data, u)"
   ]
  },
  {
   "cell_type": "code",
   "execution_count": 70,
   "id": "enclosed-contribution",
   "metadata": {},
   "outputs": [
    {
     "data": {
      "text/plain": [
       "array([ 0.07071068, -0.10356739, -0.0605816 ,  0.01490308])"
      ]
     },
     "execution_count": 70,
     "metadata": {},
     "output_type": "execute_result"
    }
   ],
   "source": [
    "U_best[0]"
   ]
  },
  {
   "cell_type": "code",
   "execution_count": 71,
   "id": "liquid-amateur",
   "metadata": {},
   "outputs": [],
   "source": [
    "kmeans = KMeans(n_clusters=k).fit(U_best)"
   ]
  },
  {
   "cell_type": "code",
   "execution_count": 72,
   "id": "noted-layout",
   "metadata": {},
   "outputs": [],
   "source": [
    "def reorderLabels(labels):\n",
    "    pred = []\n",
    "    ordered_label = 0\n",
    "    prev_labels = {}\n",
    "\n",
    "    for c in labels:\n",
    "        if c not in prev_labels:\n",
    "            prev_labels[c] = ordered_label\n",
    "            ordered_label += 1\n",
    "        pred.append(prev_labels[c])\n",
    "\n",
    "    return np.array(pred)"
   ]
  },
  {
   "cell_type": "code",
   "execution_count": 75,
   "id": "comic-participation",
   "metadata": {},
   "outputs": [],
   "source": [
    "def spectral_clustering(data, k):\n",
    "    W = getSimilarity(data, weighted=False)\n",
    "    L = getLaplacian(W)\n",
    "    \n",
    "    lam, U = np.linalg.eigh(L)\n",
    "    sorted_ind = np.argsort(lam)\n",
    "    U_best = U[:, sorted_ind[:k]]\n",
    "    \n",
    "    kmeans = KMeans(n_clusters=k).fit(U_best)\n",
    "    #pred_clusters = reorderLabels(kmeans.labels_)\n",
    "\n",
    "    return kmeans.labels_"
   ]
  },
  {
   "cell_type": "code",
   "execution_count": 76,
   "id": "undefined-technician",
   "metadata": {},
   "outputs": [],
   "source": [
    "pred = spectral_clustering(data, k)"
   ]
  },
  {
   "cell_type": "code",
   "execution_count": 77,
   "id": "rapid-condition",
   "metadata": {},
   "outputs": [],
   "source": [
    "# TODO: change evaluation metric to distance measure\n",
    "# Compare brute-force search for min distance\n",
    "def getLoss(data, label, return_cluster_loss=False):\n",
    "    all_loss = []\n",
    "    for c in np.unique(label):\n",
    "        #cluster_indices = np.where(c == pred)\n",
    "        cluster_data = data[c == label]\n",
    "        cluster_dist = np.square(cluster_data - np.tile(cluster_data, (cluster_data.shape[0],1)).T)\n",
    "        cluster_loss = np.sum(cluster_dist)\n",
    "        all_loss.append(cluster_loss)\n",
    "    \n",
    "    return sum(all_loss) if not return_cluster_loss else (sum(all_loss), all_loss)"
   ]
  },
  {
   "cell_type": "code",
   "execution_count": 78,
   "id": "studied-audience",
   "metadata": {},
   "outputs": [
    {
     "data": {
      "text/plain": [
       "2733.257536185633"
      ]
     },
     "execution_count": 78,
     "metadata": {},
     "output_type": "execute_result"
    }
   ],
   "source": [
    "getLoss(data, pred)"
   ]
  },
  {
   "cell_type": "code",
   "execution_count": 80,
   "id": "loving-hello",
   "metadata": {},
   "outputs": [
    {
     "data": {
      "text/plain": [
       "2743.1174301107676"
      ]
     },
     "execution_count": 80,
     "metadata": {},
     "output_type": "execute_result"
    }
   ],
   "source": [
    "getLoss(data, gt_labels)"
   ]
  },
  {
   "cell_type": "code",
   "execution_count": 81,
   "id": "worth-count",
   "metadata": {},
   "outputs": [
    {
     "data": {
      "image/png": "[encoded data removed]",
      "text/plain": [
       "<Figure size 432x288 with 1 Axes>"
      ]
     },
     "metadata": {
      "needs_background": "light"
     },
     "output_type": "display_data"
    }
   ],
   "source": [
    "for c in np.unique(pred): \n",
    "    plt.hist(data[c==pred], bins=n_bins//k)"
   ]
  },
  {
   "cell_type": "code",
   "execution_count": 92,
   "id": "southwest-sheet",
   "metadata": {},
   "outputs": [
    {
     "data": {
      "image/png": "[encoded data removed]",
      "text/plain": [
       "<Figure size 432x1080 with 4 Axes>"
      ]
     },
     "metadata": {
      "needs_background": "light"
     },
     "output_type": "display_data"
    }
   ],
   "source": [
    "#i = 3\n",
    "c = 0\n",
    "\n",
    "fig, axs = plt.subplots(k, sharex=True, sharey=True)\n",
    "fig.set_figheight(15)\n",
    "\n",
    "for i in range(k):\n",
    "    #u = U_best[:,i]\n",
    "    axs[i].scatter(data[c==pred], U_best[c==pred, i])"
   ]
  },
  {
   "cell_type": "code",
   "execution_count": 93,
   "id": "economic-claim",
   "metadata": {},
   "outputs": [
    {
     "data": {
      "text/plain": [
       "<matplotlib.collections.PathCollection at 0x7fa348a760d0>"
      ]
     },
     "execution_count": 93,
     "metadata": {},
     "output_type": "execute_result"
    },
    {
     "data": {
      "image/png": "[encoded data removed]",
      "text/plain": [
       "<Figure size 432x288 with 1 Axes>"
      ]
     },
     "metadata": {
      "needs_background": "light"
     },
     "output_type": "display_data"
    }
   ],
   "source": [
    "i = 3\n",
    "c = 0\n",
    "\n",
    "x = np.tile(data[c==pred], k)\n",
    "y = np.concatenate([U_best[c==pred,i] for i in range(k)])\n",
    "plt.scatter(x, y)"
   ]
  },
  {
   "cell_type": "code",
   "execution_count": 94,
   "id": "another-organ",
   "metadata": {},
   "outputs": [
    {
     "data": {
      "image/png": "[encoded data removed]",
      "text/plain": [
       "<Figure size 432x288 with 1 Axes>"
      ]
     },
     "metadata": {
      "needs_background": "light"
     },
     "output_type": "display_data"
    }
   ],
   "source": [
    "for c in np.unique(pred): \n",
    "    x = np.tile(data[c==pred], k)\n",
    "    y = np.concatenate([U_best[c==pred,i] for i in range(k)])\n",
    "    plt.scatter(x, y)"
   ]
  },
  {
   "cell_type": "code",
   "execution_count": null,
   "id": "valued-prompt",
   "metadata": {},
   "outputs": [],
   "source": [
    "for i in range(k): \n",
    "    u = U_best[:,i]\n",
    "    plt.scatter(data, u)"
   ]
  },
  {
   "cell_type": "code",
   "execution_count": null,
   "id": "entire-brand",
   "metadata": {},
   "outputs": [],
   "source": [
    "# TODO: Control Hyperparameter of getSim"
   ]
  },
  {
   "cell_type": "code",
   "execution_count": null,
   "id": "tribal-vitamin",
   "metadata": {},
   "outputs": [],
   "source": [
    "# TODO: Implement local scaling, add harder example, take time on big example"
   ]
  }
 ],
 "metadata": {
  "kernelspec": {
   "display_name": "Python 3",
   "language": "python",
   "name": "python3"
  },
  "language_info": {
   "codemirror_mode": {
    "name": "ipython",
    "version": 3
   },
   "file_extension": ".py",
   "mimetype": "text/x-python",
   "name": "python",
   "nbconvert_exporter": "python",
   "pygments_lexer": "ipython3",
   "version": "3.7.10"
  }
 },
 "nbformat": 4,
 "nbformat_minor": 5
}
