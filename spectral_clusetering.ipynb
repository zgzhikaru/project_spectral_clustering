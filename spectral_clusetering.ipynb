{
 "cells": [
  {
   "cell_type": "code",
   "execution_count": 1,
   "id": "molecular-mention",
   "metadata": {},
   "outputs": [],
   "source": [
    "import numpy as np\n",
    "import matplotlib.pyplot as plt\n",
    "\n",
    "from sklearn.cluster import KMeans"
   ]
  },
  {
   "cell_type": "code",
   "execution_count": 2,
   "id": "alert-chrome",
   "metadata": {},
   "outputs": [],
   "source": [
    "np.random.seed(2021)"
   ]
  },
  {
   "cell_type": "code",
   "execution_count": 3,
   "id": "nutritional-notification",
   "metadata": {},
   "outputs": [],
   "source": [
    "# Subprocedures for algorithm\n",
    "\n",
    "def epsilon_neighbor(d, eps=1.0):\n",
    "    return (d < eps**2).astype(int)\n",
    "\n",
    "def gauss_sim(d, sigma=1.0):\n",
    "    return np.exp(-d/sigma**2)\n",
    "\n",
    "def getSimilarity(data, weighted=True):\n",
    "    dist = np.square(data - np.tile(data, (data.shape[0],1)).T)\n",
    "    if weighted:\n",
    "        return gauss_sim(dist)\n",
    "    else:\n",
    "        return epsilon_neighbor(dist)\n",
    "\n",
    "def getLaplacian(W):\n",
    "    return np.diag(np.sum(W, axis=0)) - W"
   ]
  },
  {
   "cell_type": "code",
   "execution_count": 4,
   "id": "unexpected-classics",
   "metadata": {},
   "outputs": [],
   "source": [
    "# Algorithm\n",
    "\n",
    "def spectral_clustering(data, k, weighted=True):\n",
    "    W = getSimilarity(data, weighted=weighted)\n",
    "    L = getLaplacian(W)\n",
    "    \n",
    "    lam, U = np.linalg.eigh(L)\n",
    "    sorted_ind = np.argsort(lam)\n",
    "    U_best = U[:, sorted_ind[:k]]\n",
    "    \n",
    "    kmeans = KMeans(n_clusters=k).fit(U_best)\n",
    "    #pred_clusters = reorderLabels(kmeans.labels_)\n",
    "\n",
    "    return kmeans.labels_"
   ]
  },
  {
   "cell_type": "code",
   "execution_count": 5,
   "id": "known-direction",
   "metadata": {},
   "outputs": [],
   "source": [
    "# For evaluation\n",
    "\n",
    "def getLoss(data, label, return_cluster_loss=False):\n",
    "    all_loss = []\n",
    "    for c in np.unique(label):\n",
    "        #cluster_indices = np.where(c == pred)\n",
    "        cluster_data = data[c == label]\n",
    "        cluster_dist = np.square(cluster_data - np.tile(cluster_data, (cluster_data.shape[0],1)).T)\n",
    "        cluster_loss = np.sum(cluster_dist)\n",
    "        all_loss.append(cluster_loss)\n",
    "    \n",
    "    return sum(all_loss) if not return_cluster_loss else (sum(all_loss), all_loss)"
   ]
  },
  {
   "cell_type": "markdown",
   "id": "working-significance",
   "metadata": {},
   "source": [
    "# Unweighted Graph Visualization"
   ]
  },
  {
   "cell_type": "code",
   "execution_count": 6,
   "id": "equivalent-train",
   "metadata": {},
   "outputs": [],
   "source": [
    "n = 12\n",
    "centers = [2,4,6,8]\n",
    "sigma = 0.4\n",
    "k = len(centers)\n",
    "\n",
    "gt_label_indices = np.random.permutation(np.arange(n))\n",
    "gt_labels = np.repeat(np.arange(k), n//k)[gt_label_indices]\n",
    "\n",
    "cluster_data = np.stack([np.random.normal(loc=m, scale=sigma, size=n//k) for m in centers])\n",
    "data = cluster_data.reshape(-1)[gt_label_indices]"
   ]
  },
  {
   "cell_type": "code",
   "execution_count": 7,
   "id": "productive-signal",
   "metadata": {},
   "outputs": [
    {
     "data": {
      "text/plain": [
       "(12, 12)"
      ]
     },
     "execution_count": 7,
     "metadata": {},
     "output_type": "execute_result"
    }
   ],
   "source": [
    "W = getSimilarity(data, weighted=False)\n",
    "W.shape"
   ]
  },
  {
   "cell_type": "code",
   "execution_count": 8,
   "id": "instrumental-impact",
   "metadata": {
    "scrolled": true
   },
   "outputs": [
    {
     "data": {
      "image/png": "[encoded data removed]",
      "text/plain": [
       "<Figure size 432x288 with 1 Axes>"
      ]
     },
     "metadata": {},
     "output_type": "display_data"
    }
   ],
   "source": [
    "# Visualize sim graph\n",
    "import networkx as nx\n",
    "\n",
    "G = nx.Graph()\n",
    "G.add_nodes_from(np.arange(n))\n",
    "edges = np.stack(np.where(W > 0)).T\n",
    "G.add_edges_from(edges)\n",
    "\n",
    "# Adjust node position\n",
    "y_pos = np.zeros(n)\n",
    "y_pos[np.arange(1, n, step=2)] = 1#np.arange(n//2)+1\n",
    "y_pos_map = dict(zip(np.argsort(data), y_pos))\n",
    "permuted_y_pos = [y_pos_map[i] for i in range(n)]\n",
    "\n",
    "# Set axis scale equal\n",
    "plt.ylim(-0.5, 1.5)\n",
    "plt.gca().set_aspect('equal', adjustable='box')\n",
    "\n",
    "# Adjust edges width\n",
    "weights = getSimilarity(data, weighted=True)\n",
    "\n",
    "posdict = dict(zip(np.arange(n), tuple(zip(data, permuted_y_pos))))\n",
    "labeldict = dict(zip(np.arange(n), np.around(data, 2)))\n",
    "nx.draw(G, labels=labeldict, with_labels=True, width=(weights[W > 0] - 0.2)*5, pos=posdict)\n"
   ]
  },
  {
   "cell_type": "markdown",
   "id": "disturbed-geometry",
   "metadata": {},
   "source": [
    "# Toy Example Dataset"
   ]
  },
  {
   "cell_type": "code",
   "execution_count": 9,
   "id": "continent-management",
   "metadata": {},
   "outputs": [],
   "source": [
    "n = 200\n",
    "\n",
    "centers = [2,4,6,8]\n",
    "sigma = 0.4\n",
    "k = len(centers)\n"
   ]
  },
  {
   "cell_type": "code",
   "execution_count": 10,
   "id": "palestinian-aberdeen",
   "metadata": {},
   "outputs": [],
   "source": [
    "gt_label_indices = np.random.permutation(np.arange(n))\n",
    "\n",
    "gt_labels = np.repeat(np.arange(k), n//k)[gt_label_indices]"
   ]
  },
  {
   "cell_type": "code",
   "execution_count": 11,
   "id": "gothic-beads",
   "metadata": {},
   "outputs": [
    {
     "data": {
      "text/plain": [
       "(200,)"
      ]
     },
     "execution_count": 11,
     "metadata": {},
     "output_type": "execute_result"
    }
   ],
   "source": [
    "cluster_data = np.stack([np.random.normal(loc=m, scale=sigma, size=n//k) for m in centers])\n",
    "\n",
    "data = cluster_data.reshape(-1)[gt_label_indices]\n",
    "\n",
    "data.shape"
   ]
  },
  {
   "cell_type": "code",
   "execution_count": 12,
   "id": "improved-therapy",
   "metadata": {},
   "outputs": [
    {
     "data": {
      "image/png": "[encoded data removed]",
      "text/plain": [
       "<Figure size 432x288 with 1 Axes>"
      ]
     },
     "metadata": {
      "needs_background": "light"
     },
     "output_type": "display_data"
    }
   ],
   "source": [
    "n_bins = n//2\n",
    "\n",
    "for i in range(k): \n",
    "    plt.hist(cluster_data[i], bins=n_bins//k)"
   ]
  },
  {
   "cell_type": "markdown",
   "id": "physical-objective",
   "metadata": {},
   "source": [
    "# Weighted Graph & Algorithm"
   ]
  },
  {
   "cell_type": "code",
   "execution_count": 13,
   "id": "equipped-newark",
   "metadata": {},
   "outputs": [
    {
     "data": {
      "text/plain": [
       "(200, 200)"
      ]
     },
     "execution_count": 13,
     "metadata": {},
     "output_type": "execute_result"
    }
   ],
   "source": [
    "W = getSimilarity(data, weighted=True)\n",
    "W.shape"
   ]
  },
  {
   "cell_type": "code",
   "execution_count": 14,
   "id": "understanding-authorization",
   "metadata": {},
   "outputs": [
    {
     "data": {
      "text/plain": [
       "(200, 200)"
      ]
     },
     "execution_count": 14,
     "metadata": {},
     "output_type": "execute_result"
    }
   ],
   "source": [
    "L = getLaplacian(W)\n",
    "L.shape"
   ]
  },
  {
   "cell_type": "code",
   "execution_count": 15,
   "id": "prompt-heavy",
   "metadata": {},
   "outputs": [
    {
     "data": {
      "text/plain": [
       "array([-7.12281168e-15,  1.44110561e+00,  4.63013242e+00,  1.04994300e+01,\n",
       "        2.29301620e+01,  2.77582679e+01,  3.10289209e+01,  3.19157452e+01])"
      ]
     },
     "execution_count": 15,
     "metadata": {},
     "output_type": "execute_result"
    }
   ],
   "source": [
    "lam, U = np.linalg.eigh(L)\n",
    "sorted_ind = np.argsort(lam)\n",
    "\n",
    "num_ref = k \n",
    "smallest_ind = sorted_ind[:k+num_ref]\n",
    "lam[smallest_ind]"
   ]
  },
  {
   "cell_type": "code",
   "execution_count": 16,
   "id": "martial-surname",
   "metadata": {},
   "outputs": [],
   "source": [
    "U[:,smallest_ind[:k]]\n",
    "U_best = U[:,smallest_ind[:k]]"
   ]
  },
  {
   "cell_type": "code",
   "execution_count": 17,
   "id": "dominican-sugar",
   "metadata": {},
   "outputs": [
    {
     "data": {
      "text/plain": [
       "<matplotlib.collections.PathCollection at 0x7fae3bd7d950>"
      ]
     },
     "execution_count": 17,
     "metadata": {},
     "output_type": "execute_result"
    },
    {
     "data": {
      "image/png": "[encoded data removed]",
      "text/plain": [
       "<Figure size 432x288 with 1 Axes>"
      ]
     },
     "metadata": {
      "needs_background": "light"
     },
     "output_type": "display_data"
    }
   ],
   "source": [
    "# Eigenvalue plot\n",
    "\n",
    "plt.scatter(np.arange(k+num_ref)+1, lam[smallest_ind])"
   ]
  },
  {
   "cell_type": "code",
   "execution_count": 18,
   "id": "internal-security",
   "metadata": {},
   "outputs": [
    {
     "data": {
      "image/png": "[encoded data removed]",
      "text/plain": [
       "<Figure size 432x288 with 1 Axes>"
      ]
     },
     "metadata": {
      "needs_background": "light"
     },
     "output_type": "display_data"
    }
   ],
   "source": [
    "# Eigenvector plots\n",
    "\n",
    "for i in range(k): \n",
    "    u = U_best[:,i]\n",
    "    plt.scatter(data, u)"
   ]
  },
  {
   "cell_type": "markdown",
   "id": "outer-seventh",
   "metadata": {},
   "source": [
    "# Clustering Result"
   ]
  },
  {
   "cell_type": "code",
   "execution_count": 19,
   "id": "adjacent-provider",
   "metadata": {},
   "outputs": [],
   "source": [
    "kmeans = KMeans(n_clusters=k).fit(U_best)\n",
    "pred = kmeans.labels_"
   ]
  },
  {
   "cell_type": "code",
   "execution_count": 20,
   "id": "statewide-denial",
   "metadata": {},
   "outputs": [
    {
     "data": {
      "text/plain": [
       "3213.8677127128576"
      ]
     },
     "execution_count": 20,
     "metadata": {},
     "output_type": "execute_result"
    }
   ],
   "source": [
    "getLoss(data, pred)"
   ]
  },
  {
   "cell_type": "code",
   "execution_count": 21,
   "id": "inside-orleans",
   "metadata": {},
   "outputs": [
    {
     "data": {
      "text/plain": [
       "3228.4830498418632"
      ]
     },
     "execution_count": 21,
     "metadata": {},
     "output_type": "execute_result"
    }
   ],
   "source": [
    "getLoss(data, gt_labels)"
   ]
  },
  {
   "cell_type": "code",
   "execution_count": 22,
   "id": "equal-strategy",
   "metadata": {},
   "outputs": [
    {
     "data": {
      "image/png": "[encoded data removed]",
      "text/plain": [
       "<Figure size 432x288 with 1 Axes>"
      ]
     },
     "metadata": {
      "needs_background": "light"
     },
     "output_type": "display_data"
    }
   ],
   "source": [
    "for c in np.unique(pred): \n",
    "    plt.hist(data[c==pred], bins=n_bins//k)"
   ]
  },
  {
   "cell_type": "code",
   "execution_count": 64,
   "id": "expanded-giant",
   "metadata": {},
   "outputs": [
    {
     "data": {
      "text/plain": [
       "<matplotlib.legend.Legend at 0x7fae3d427990>"
      ]
     },
     "execution_count": 64,
     "metadata": {},
     "output_type": "execute_result"
    },
    {
     "data": {
      "image/png": "[encoded data removed]",
      "text/plain": [
       "<Figure size 432x288 with 1 Axes>"
      ]
     },
     "metadata": {
      "needs_background": "light"
     },
     "output_type": "display_data"
    }
   ],
   "source": [
    "# Feature vector pattern of each cluster\n",
    "clus_marker = [plt.rcParams['axes.prop_cycle'].by_key()['color'][i] for i in [3,2,0,1]]\n",
    "feat_marker = ['o', 'x', '^', '+']\n",
    "\n",
    "for c in np.unique(pred): \n",
    "    \"\"\"\n",
    "    x = np.tile(data[c==pred], k)\n",
    "    y = np.concatenate([U_best[c==pred,i] for i in range(k)])\n",
    "    plt.scatter(x, y)\n",
    "    \"\"\"\n",
    "    for i in range(k):\n",
    "        if feat_marker[i] in ['o', '^']:\n",
    "            plt.scatter(data[c==pred], U_best[c==pred,i], color=clus_marker[c], marker=feat_marker[i], facecolors='none')\n",
    "        else:\n",
    "            plt.scatter(data[c==pred], U_best[c==pred,i], color=clus_marker[c], marker=feat_marker[i])\n",
    "            \n",
    "plt.legend([])\n",
    "import matplotlib.lines as mlines\n",
    "\n",
    "legend_feat1 = mlines.Line2D([], [], marker='o', linestyle='None', markerfacecolor=\"none\", label='Feat 1')\n",
    "legend_feat2 = mlines.Line2D([], [], marker='x', linestyle='None', label='Feat 2')\n",
    "legend_feat3 = mlines.Line2D([], [], marker='^', linestyle='None', markerfacecolor=\"none\", label='Feat 3')\n",
    "legend_feat4 = mlines.Line2D([], [], marker='+', linestyle='None', label='Feat 4')\n",
    "\n",
    "plt.legend(handles=[legend_feat1, legend_feat2, legend_feat3, legend_feat4])"
   ]
  },
  {
   "cell_type": "code",
   "execution_count": 24,
   "id": "likely-assist",
   "metadata": {},
   "outputs": [],
   "source": [
    "pred = spectral_clustering(data, k)"
   ]
  },
  {
   "cell_type": "code",
   "execution_count": null,
   "id": "temporal-lucas",
   "metadata": {},
   "outputs": [],
   "source": []
  },
  {
   "cell_type": "code",
   "execution_count": 25,
   "id": "animal-possible",
   "metadata": {},
   "outputs": [],
   "source": [
    "# TODO: Implement local scaling, add harder example, take time on big example"
   ]
  },
  {
   "cell_type": "markdown",
   "id": "received-helena",
   "metadata": {},
   "source": [
    "# Multi-local-scale Example"
   ]
  },
  {
   "cell_type": "code",
   "execution_count": 95,
   "id": "married-hypothesis",
   "metadata": {},
   "outputs": [
    {
     "data": {
      "image/png": "[encoded data removed]",
      "text/plain": [
       "<Figure size 432x288 with 1 Axes>"
      ]
     },
     "metadata": {
      "needs_background": "light"
     },
     "output_type": "display_data"
    }
   ],
   "source": [
    "N = [40, 100, 200]\n",
    "R_range = [(0,1), (2,3), (4,5)]\n",
    "\n",
    "k = len(N)\n",
    "\n",
    "plt.axis('equal')\n",
    "\n",
    "for i in range(k):\n",
    "    r_min, r_max = R_range[i]\n",
    "    n = N[i]\n",
    "    r = np.sqrt(np.random.uniform(r_min**2, r_max**2, n))\n",
    "    theta = np.random.uniform(0,2*np.pi,n)\n",
    "\n",
    "    points = np.stack([r * np.cos(theta), r * np.sin(theta)])\n",
    "    plt.scatter(points[0], points[1])"
   ]
  },
  {
   "cell_type": "code",
   "execution_count": 100,
   "id": "effective-tractor",
   "metadata": {},
   "outputs": [
    {
     "data": {
      "text/plain": [
       "<matplotlib.collections.PathCollection at 0x7fae3e3c5710>"
      ]
     },
     "execution_count": 100,
     "metadata": {},
     "output_type": "execute_result"
    },
    {
     "data": {
      "image/png": "[encoded data removed]",
      "text/plain": [
       "<Figure size 432x288 with 1 Axes>"
      ]
     },
     "metadata": {
      "needs_background": "light"
     },
     "output_type": "display_data"
    }
   ],
   "source": [
    "N = [40, 100, 200]\n",
    "R_range = [(0,1), (2,3), (4,5)]\n",
    "\n",
    "k = len(N)\n",
    "\n",
    "plt.axis('equal')\n",
    "\n",
    "all_points = np.array([[],[]])\n",
    "\n",
    "for i in range(k):\n",
    "    r_min, r_max = R_range[i]\n",
    "    n = N[i]\n",
    "    r = np.sqrt(np.random.uniform(r_min**2, r_max**2, n))\n",
    "    theta = np.random.uniform(0,2*np.pi,n)\n",
    "\n",
    "    points = np.stack([r * np.cos(theta), r * np.sin(theta)])\n",
    "    all_points = np.concatenate([all_points, points], axis=1)\n",
    "\n",
    "plt.scatter(all_points[0], all_points[1])"
   ]
  },
  {
   "cell_type": "code",
   "execution_count": 139,
   "id": "handmade-record",
   "metadata": {},
   "outputs": [
    {
     "name": "stdout",
     "output_type": "stream",
     "text": [
      "[1 5 9]\n",
      "[ 1  6 15]\n",
      "[34, 169, 297]\n"
     ]
    }
   ],
   "source": [
    "np.random.seed(2021)\n",
    "\n",
    "n = 500\n",
    "R_range = [(0,1), (2,3), (4,5)]\n",
    "k = len(R_range)\n",
    "\n",
    "theta = np.random.uniform(0,2*np.pi,n)\n",
    "\n",
    "intv_len = np.array([R_range[i][1]**2 - R_range[i][0]**2 for i in range(k)])\n",
    "total_length = np.sum(intv_len)\n",
    "\n",
    "print(intv_len)\n",
    "\n",
    "cum_len = np.cumsum(intv_len)\n",
    "\n",
    "\n",
    "print(cum_len)\n",
    "\n",
    "true_Rs = []\n",
    "\n",
    "cluster_size = [0] * k\n",
    "cluster_indices = [[] for i in range(k)]\n",
    "\n",
    "R_sq = np.random.uniform(0, total_length, n)\n",
    "for i, r_sq in enumerate(R_sq):\n",
    "    \n",
    "    #print(r_sq)\n",
    "    cluster = np.where(r_sq < cum_len)[0][0]\n",
    "    #print(intv)\n",
    "    #cluster = intv[0]\n",
    "    #print(cluster)\n",
    "    \n",
    "    r_min, r_max = R_range[cluster]\n",
    "    intv_offset = r_sq - cum_len[cluster-1] if cluster != 0 else r_sq\n",
    "    \n",
    "    \n",
    "    #print(intv_offset)\n",
    "    assert(intv_offset > 0)\n",
    "    #print(r_min**2)\n",
    "    \n",
    "    true_r_sq = r_min**2 + intv_offset\n",
    "    \n",
    "    #print(true_r_sq)\n",
    "    assert(true_r_sq > 0)\n",
    "    #print()\n",
    "    \n",
    "    true_Rs.append(true_r_sq)\n",
    "    cluster_size[cluster] += 1\n",
    "    \n",
    "    cluster_indices[cluster].append(i)\n",
    "    \n",
    "\n",
    "#R_range = [(0,1), (2,3), (4,5)]\n",
    "#r = np.sqrt(np.random.uniform(r_min**2, r_max**2, n))\n",
    "#print(true_Rs)\n",
    "r = np.sqrt(np.array(true_Rs))\n",
    "#print(true_Rs)\n",
    "#print(r)\n",
    "print(cluster_size)\n",
    "#print(cluster_indices)\n",
    "cluster_indices = np.array(cluster_indices)"
   ]
  },
  {
   "cell_type": "code",
   "execution_count": 140,
   "id": "handy-nelson",
   "metadata": {},
   "outputs": [
    {
     "data": {
      "image/png": "[encoded data removed]",
      "text/plain": [
       "<Figure size 432x288 with 1 Axes>"
      ]
     },
     "metadata": {
      "needs_background": "light"
     },
     "output_type": "display_data"
    }
   ],
   "source": [
    "plt.axis('equal')\n",
    "\n",
    "points = np.stack([r * np.cos(theta), r * np.sin(theta)])\n",
    "\n",
    "for i in range(k):\n",
    "    clus_points = points[:, cluster_indices[i]]\n",
    "    plt.scatter(clus_points[0], clus_points[1])"
   ]
  },
  {
   "cell_type": "code",
   "execution_count": null,
   "id": "portable-bookmark",
   "metadata": {},
   "outputs": [],
   "source": [
    "for i in range(k):\n",
    "    r_min, r_max = R_range[i]\n",
    "    "
   ]
  }
 ],
 "metadata": {
  "kernelspec": {
   "display_name": "Python 3",
   "language": "python",
   "name": "python3"
  },
  "language_info": {
   "codemirror_mode": {
    "name": "ipython",
    "version": 3
   },
   "file_extension": ".py",
   "mimetype": "text/x-python",
   "name": "python",
   "nbconvert_exporter": "python",
   "pygments_lexer": "ipython3",
   "version": "3.7.10"
  }
 },
 "nbformat": 4,
 "nbformat_minor": 5
}
